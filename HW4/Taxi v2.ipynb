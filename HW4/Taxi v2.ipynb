{
 "cells": [
  {
   "cell_type": "code",
   "execution_count": 136,
   "metadata": {},
   "outputs": [],
   "source": [
    "import gym\n",
    "import numpy as np\n",
    "import time\n",
    "import matplotlib.pyplot as plt\n",
    "import seaborn as sns\n",
    "%matplotlib inline"
   ]
  },
  {
   "cell_type": "code",
   "execution_count": 137,
   "metadata": {},
   "outputs": [],
   "source": [
    "env = gym.make('Taxi-v2')"
   ]
  },
  {
   "cell_type": "code",
   "execution_count": 138,
   "metadata": {},
   "outputs": [
    {
     "name": "stdout",
     "output_type": "stream",
     "text": [
      "500 6\n"
     ]
    }
   ],
   "source": [
    "print(env.nS, env.nA)"
   ]
  },
  {
   "cell_type": "code",
   "execution_count": 139,
   "metadata": {},
   "outputs": [
    {
     "data": {
      "text/plain": [
       "array([[0., 0., 0., 0., 0., 0.],\n",
       "       [0., 0., 0., 0., 0., 0.],\n",
       "       [0., 0., 0., 0., 0., 0.],\n",
       "       ...,\n",
       "       [0., 0., 0., 0., 0., 0.],\n",
       "       [0., 0., 0., 0., 0., 0.],\n",
       "       [0., 0., 0., 0., 0., 0.]])"
      ]
     },
     "execution_count": 139,
     "metadata": {},
     "output_type": "execute_result"
    }
   ],
   "source": [
    "np.zeros((env.nS, env.nA))"
   ]
  },
  {
   "cell_type": "code",
   "execution_count": 140,
   "metadata": {},
   "outputs": [],
   "source": [
    "def random_policy_steps_count():\n",
    "    state = env.reset()\n",
    "    counter = 0\n",
    "    reward = None\n",
    "    while reward != 20:\n",
    "        state, reward, done, info = env.step(env.action_space.sample())  \n",
    "        counter += 1\n",
    "    return counter"
   ]
  },
  {
   "cell_type": "code",
   "execution_count": 141,
   "metadata": {},
   "outputs": [
    {
     "data": {
      "text/plain": [
       "<matplotlib.axes._subplots.AxesSubplot at 0x2e0c53600b8>"
      ]
     },
     "execution_count": 141,
     "metadata": {},
     "output_type": "execute_result"
    },
    {
     "data": {
      "image/png": "[encoded data removed]",
      "text/plain": [
       "<Figure size 432x288 with 1 Axes>"
      ]
     },
     "metadata": {
      "needs_background": "light"
     },
     "output_type": "display_data"
    }
   ],
   "source": [
    "counts = [random_policy_steps_count() for _ in range(1000)]\n",
    "sns.distplot(counts)"
   ]
  },
  {
   "cell_type": "code",
   "execution_count": 142,
   "metadata": {},
   "outputs": [
    {
     "data": {
      "text/plain": [
       "2243.072"
      ]
     },
     "execution_count": 142,
     "metadata": {},
     "output_type": "execute_result"
    }
   ],
   "source": [
    "np.mean(counts)"
   ]
  },
  {
   "cell_type": "code",
   "execution_count": 143,
   "metadata": {},
   "outputs": [],
   "source": [
    "def value_iteration(env, epsilon=0.0001, gamma=1.0):\n",
    "    \"\"\"\n",
    "    Value Iteration Algorithm.\n",
    "    \n",
    "    Args:\n",
    "        env: OpenAI env. env.P represents the transition probabilities of the environment.\n",
    "            env.P[s][a] is a list of transition tuples (prob, next_state, reward, done).\n",
    "            env.nS is a number of states in the environment. \n",
    "            env.nA is a number of actions in the environment.\n",
    "        \n",
    "    Returns:\n",
    "        A tuple (policy, V) of the optimal policy and the optimal value function.        \n",
    "    \"\"\"\n",
    "    \n",
    "    def one_step_lookahead(state, V):\n",
    "        \"\"\"\n",
    "        Helper function to calculate the value for all action in a given state.\n",
    "        \n",
    "        Args:\n",
    "            state: The state to consider (int)\n",
    "            V: The value to use as an estimator, Vector of length env.nS\n",
    "        \n",
    "        Returns:\n",
    "            A vector of length env.nA containing the expected value of each action.\n",
    "        \"\"\"\n",
    "        A = np.zeros(env.nA)\n",
    "        for a in range(env.nA):\n",
    "            for prob, next_state, reward, done in env.env.P[state][a]:\n",
    "                A[a] += prob * (reward + gamma * V[next_state])\n",
    "        return A\n",
    "    \n",
    "    V = np.zeros(env.nS)\n",
    "    iterations = 0\n",
    "    \n",
    "    while True:\n",
    "        \n",
    "        iterations += 1\n",
    "        delta = 0  #checker for improvements across states\n",
    "        for state in range(env.nS):\n",
    "            act_values = one_step_lookahead(state,V)  #lookahead one step\n",
    "            best_act_value = np.max(act_values) #get best action value\n",
    "            delta = max(delta, np.abs(best_act_value - V[state]))  #find max delta across all states\n",
    "            V[state] = best_act_value  #update value to best action value\n",
    "        if delta < epsilon:  #if max improvement less than threshold\n",
    "            break\n",
    "            \n",
    "    policy = np.zeros([env.nS, env.nA])\n",
    "    for state in range(env.nS):  #for all states, create deterministic policy\n",
    "        act_val = one_step_lookahead(state, V)\n",
    "        best_action = np.argmax(act_val)\n",
    "        policy[state][best_action] = 1\n",
    "        \n",
    "    print('Iterations took:', iterations)\n",
    "    return policy, V, iterations"
   ]
  },
  {
   "cell_type": "code",
   "execution_count": 144,
   "metadata": {},
   "outputs": [],
   "source": [
    "def pol_eval(policy, env, gamma=1.0, epsilon=0.00001):\n",
    "    # Start with a random (all 0) value function\n",
    "    V = np.zeros(env.nS)\n",
    "    \n",
    "    while True:\n",
    "\n",
    "        delta = 0  #delta = change in value of state from one iteration to next\n",
    "       \n",
    "        for state in range(env.nS):  #for all states\n",
    "            val = 0  #initiate value as 0\n",
    "            \n",
    "            #for all actions/action probabilities\n",
    "            for action, act_prob in enumerate(policy[state]):\n",
    "                #transition probabilities,state,rewards of each action\n",
    "                for prob, next_state, reward, done in env.env.P[state][action]:\n",
    "                    val += act_prob * prob * (reward + gamma * V[next_state])  #eqn to calculate\n",
    "                    \n",
    "            delta = max(delta, np.abs(val-V[state]))\n",
    "            V[state] = val\n",
    "        if delta < epsilon:  #break if the change in value is less than the threshold (theta)\n",
    "            break\n",
    "    return np.array(V)"
   ]
  },
  {
   "cell_type": "code",
   "execution_count": 145,
   "metadata": {},
   "outputs": [],
   "source": [
    "def policy_iteration(env, policy_eval_fn=pol_eval, gamma=1.0):\n",
    "    \n",
    "    def one_step_lookahead(state, V):\n",
    "        \"\"\"\n",
    "        Helper function to calculate the value for all action in a given state.\n",
    "        \n",
    "        Args:\n",
    "            state: The state to consider (int)\n",
    "            V: The value to use as an estimator, Vector of length env.nS\n",
    "        \n",
    "        Returns:\n",
    "            A vector of length env.nA containing the expected value of each action.\n",
    "        \"\"\"\n",
    "        A = np.zeros(env.nA)\n",
    "        for a in range(env.nA):\n",
    "            for prob, next_state, reward, done in env.env.P[state][a]:\n",
    "                A[a] += prob * (reward + gamma * V[next_state])\n",
    "        return A\n",
    "    \n",
    "    # Start with a random policy\n",
    "    policy = np.zeros([env.nS, env.nA])\n",
    "    iterations = 0\n",
    "    \n",
    "    while True:\n",
    "        \n",
    "        iterations += 1\n",
    "        curr_pol_val = policy_eval_fn(policy, env, gamma)  #eval current policy\n",
    "        policy_stable = True  #Check if policy did improve (Set it as True first)\n",
    "        for state in range(env.nS):  #for each states\n",
    "            chosen_act = np.argmax(policy[state])  #best action (Highest prob) under current policy\n",
    "            act_values = one_step_lookahead(state,curr_pol_val)  #use one step lookahead to find action values\n",
    "            best_act = np.argmax(act_values) #find best action\n",
    "            if chosen_act != best_act:\n",
    "                policy_stable = False  #Greedily find best action\n",
    "            policy[state] = np.eye(env.nA)[best_act]  #update \n",
    "        if policy_stable:\n",
    "            print('Iterations took:', iterations)\n",
    "            return policy, curr_pol_val, iterations\n",
    "    \n",
    "    print('Iterations took:', iterations)\n",
    "    return policy, np.zeros(env.nS), iterations"
   ]
  },
  {
   "cell_type": "code",
   "execution_count": 183,
   "metadata": {},
   "outputs": [],
   "source": [
    "def count(policy):\n",
    "    curr_state = env.reset()\n",
    "    counter = 0\n",
    "    reward = None\n",
    "    while reward != 20:\n",
    "        state, reward, done, info = env.step(np.argmax(policy[curr_state]))  \n",
    "        curr_state = state\n",
    "        counter += 1\n",
    "    return counter"
   ]
  },
  {
   "cell_type": "markdown",
   "metadata": {},
   "source": [
    "### Value iteration"
   ]
  },
  {
   "cell_type": "code",
   "execution_count": 184,
   "metadata": {},
   "outputs": [
    {
     "name": "stdout",
     "output_type": "stream",
     "text": [
      "Iterations took: 11\n",
      "Iterations took: 11\n",
      "Iterations took: 12\n",
      "Iterations took: 13\n",
      "Iterations took: 14\n",
      "Iterations took: 16\n",
      "Iterations took: 17\n",
      "Iterations took: 20\n",
      "Iterations took: 23\n",
      "Iterations took: 27\n",
      "Iterations took: 33\n",
      "Iterations took: 43\n",
      "Iterations took: 63\n",
      "Iterations took: 124\n"
     ]
    }
   ],
   "source": [
    "env = gym.make('Taxi-v2')\n",
    "\n",
    "val_p = []\n",
    "times = []\n",
    "gammas = np.arange(0.3, 1, 0.05)\n",
    "for g in gammas:\n",
    "    start = time.time()\n",
    "    val_p.append(value_iteration(env, gamma=g))\n",
    "    end = time.time()\n",
    "    times.append(end - start)\n",
    "    env.reset()"
   ]
  },
  {
   "cell_type": "code",
   "execution_count": 185,
   "metadata": {},
   "outputs": [
    {
     "data": {
      "text/plain": [
       "[<matplotlib.lines.Line2D at 0x2e0c6900d68>]"
      ]
     },
     "execution_count": 185,
     "metadata": {},
     "output_type": "execute_result"
    },
    {
     "data": {
      "image/png": "[encoded data removed]",
      "text/plain": [
       "<Figure size 432x288 with 1 Axes>"
      ]
     },
     "metadata": {
      "needs_background": "light"
     },
     "output_type": "display_data"
    }
   ],
   "source": [
    "plt.title('Time vs Gamma')\n",
    "plt.xlabel('Gammas')\n",
    "plt.ylabel('Time of execution')\n",
    "plt.plot(gammas, times)"
   ]
  },
  {
   "cell_type": "code",
   "execution_count": 186,
   "metadata": {},
   "outputs": [
    {
     "data": {
      "text/plain": [
       "[<matplotlib.lines.Line2D at 0x2e0c6bb98d0>]"
      ]
     },
     "execution_count": 186,
     "metadata": {},
     "output_type": "execute_result"
    },
    {
     "data": {
      "image/png": "[encoded data removed]",
      "text/plain": [
       "<Figure size 432x288 with 1 Axes>"
      ]
     },
     "metadata": {
      "needs_background": "light"
     },
     "output_type": "display_data"
    }
   ],
   "source": [
    "iters = [x[2] for x in val_p]\n",
    "plt.title('Iterations vs Gamma')\n",
    "plt.xlabel('Gammas')\n",
    "plt.ylabel('Iterations')\n",
    "plt.plot(gammas, iters)"
   ]
  },
  {
   "cell_type": "code",
   "execution_count": 258,
   "metadata": {},
   "outputs": [
    {
     "data": {
      "text/plain": [
       "<matplotlib.axes._subplots.AxesSubplot at 0x2e0caa8f6d8>"
      ]
     },
     "execution_count": 258,
     "metadata": {},
     "output_type": "execute_result"
    },
    {
     "data": {
      "image/png": "[encoded data removed]",
      "text/plain": [
       "<Figure size 432x288 with 1 Axes>"
      ]
     },
     "metadata": {
      "needs_background": "light"
     },
     "output_type": "display_data"
    }
   ],
   "source": [
    "val_iter_policy = val_p[-1][0]\n",
    "val_counts = [count(val_iter_policy) for i in range(10000)]\n",
    "plt.title('Distribution of steps to complete, gamma=0.95, VI')\n",
    "plt.xlabel('Steps')\n",
    "sns.distplot(val_counts)"
   ]
  },
  {
   "cell_type": "markdown",
   "metadata": {},
   "source": [
    "### Policy iteration"
   ]
  },
  {
   "cell_type": "code",
   "execution_count": 188,
   "metadata": {},
   "outputs": [
    {
     "name": "stdout",
     "output_type": "stream",
     "text": [
      "Iterations took: 16\n",
      "Iterations took: 16\n",
      "Iterations took: 17\n",
      "Iterations took: 17\n",
      "Iterations took: 17\n",
      "Iterations took: 17\n",
      "Iterations took: 17\n",
      "Iterations took: 17\n",
      "Iterations took: 17\n",
      "Iterations took: 17\n",
      "Iterations took: 17\n",
      "Iterations took: 17\n",
      "Iterations took: 17\n",
      "Iterations took: 17\n"
     ]
    }
   ],
   "source": [
    "env = gym.make('Taxi-v2')\n",
    "\n",
    "pol_p = []\n",
    "times = []\n",
    "gammas = np.arange(0.3, 1, 0.05)\n",
    "for g in gammas:\n",
    "    start = time.time()\n",
    "    p = policy_iteration(env, pol_eval, gamma=g)\n",
    "    pol_p.append(p)\n",
    "    end = time.time()\n",
    "    times.append(end - start)\n",
    "    env.reset()"
   ]
  },
  {
   "cell_type": "code",
   "execution_count": 189,
   "metadata": {},
   "outputs": [
    {
     "data": {
      "text/plain": [
       "[<matplotlib.lines.Line2D at 0x2e0c6a5bc88>]"
      ]
     },
     "execution_count": 189,
     "metadata": {},
     "output_type": "execute_result"
    },
    {
     "data": {
      "image/png": "[encoded data removed]",
      "text/plain": [
       "<Figure size 432x288 with 1 Axes>"
      ]
     },
     "metadata": {
      "needs_background": "light"
     },
     "output_type": "display_data"
    }
   ],
   "source": [
    "plt.title('Time vs Gamma')\n",
    "plt.xlabel('Gammas')\n",
    "plt.ylabel('Time of execution')\n",
    "plt.plot(gammas, times)"
   ]
  },
  {
   "cell_type": "code",
   "execution_count": 190,
   "metadata": {},
   "outputs": [
    {
     "data": {
      "text/plain": [
       "[<matplotlib.lines.Line2D at 0x2e0c6b60828>]"
      ]
     },
     "execution_count": 190,
     "metadata": {},
     "output_type": "execute_result"
    },
    {
     "data": {
      "image/png": "[encoded data removed]",
      "text/plain": [
       "<Figure size 432x288 with 1 Axes>"
      ]
     },
     "metadata": {
      "needs_background": "light"
     },
     "output_type": "display_data"
    }
   ],
   "source": [
    "iters = [x[2] for x in pol_p]\n",
    "plt.title('Iterations vs Gamma')\n",
    "plt.xlabel('Gammas')\n",
    "plt.ylabel('Iterations')\n",
    "plt.plot(gammas, iters)"
   ]
  },
  {
   "cell_type": "code",
   "execution_count": 259,
   "metadata": {},
   "outputs": [
    {
     "data": {
      "text/plain": [
       "<matplotlib.axes._subplots.AxesSubplot at 0x2e0caadc7f0>"
      ]
     },
     "execution_count": 259,
     "metadata": {},
     "output_type": "execute_result"
    },
    {
     "data": {
      "image/png": "[encoded data removed]",
      "text/plain": [
       "<Figure size 432x288 with 1 Axes>"
      ]
     },
     "metadata": {
      "needs_background": "light"
     },
     "output_type": "display_data"
    }
   ],
   "source": [
    "pol_iter_policy = pol_p[-1][0]\n",
    "pol_counts = [count(pol_iter_policy) for i in range(10000)]\n",
    "plt.title('Distribution of steps to complete, gamma=0.95, PI')\n",
    "plt.xlabel('Steps')\n",
    "sns.distplot(pol_counts)"
   ]
  },
  {
   "cell_type": "code",
   "execution_count": 260,
   "metadata": {},
   "outputs": [
    {
     "name": "stdout",
     "output_type": "stream",
     "text": [
      "12.5125 12.5635\n"
     ]
    }
   ],
   "source": [
    "print(np.mean(val_counts), np.mean(pol_counts))"
   ]
  },
  {
   "cell_type": "code",
   "execution_count": 193,
   "metadata": {},
   "outputs": [
    {
     "name": "stdout",
     "output_type": "stream",
     "text": [
      "Same Policy\n"
     ]
    }
   ],
   "source": [
    "# Gamma = 0.95\n",
    "\n",
    "for x in range(len(pol_iter_policy)):\n",
    "    if not (pol_iter_policy[x] == val_iter_policy[x]).all():\n",
    "        print(\"Not the same Policy\")\n",
    "        break\n",
    "print(\"Same Policy\")"
   ]
  },
  {
   "cell_type": "markdown",
   "metadata": {},
   "source": [
    "### Q Learning"
   ]
  },
  {
   "cell_type": "code",
   "execution_count": 206,
   "metadata": {},
   "outputs": [],
   "source": [
    "def q_learn(epsilon=0.1, episodes=3000, alpha=0.8, gamma=0.95):\n",
    "    \n",
    "    env = gym.make('Taxi-v2')\n",
    "    env = env.unwrapped\n",
    "    \n",
    "    Q = np.zeros((env.observation_space.n, env.action_space.n))\n",
    "    rewards = []\n",
    "    start=time.time()\n",
    "    iterations = []\n",
    "    \n",
    "    # Start\n",
    "    for episode in range(episodes):\n",
    "        state = env.reset()\n",
    "        done = False\n",
    "        r = 0\n",
    "        iteration = 0\n",
    "        \n",
    "        while not done:\n",
    "\n",
    "            current = state\n",
    "            \n",
    "            # epsilon-greedy approach\n",
    "            \n",
    "            rand = np.random.uniform()\n",
    "            if rand < epsilon:\n",
    "                # the sample() method from the environment allows\n",
    "                # to randomly sample an action from the set of actions\n",
    "                action = env.action_space.sample()\n",
    "            else:\n",
    "                # act greedily by selecting the best action possible in the current state\n",
    "                action = np.argmax(Q[current, :])\n",
    "\n",
    "            state, reward, done, info = env.step(action)  \n",
    "            r += reward\n",
    "            iteration += 1\n",
    "            Q[current, action] += alpha * (reward + gamma * np.max(Q[state, :]) - Q[current, action])\n",
    "\n",
    "        rewards.append(r)\n",
    "        iterations.append(iteration)\n",
    "        \n",
    "    env.close()\n",
    "    end = time.time()\n",
    "    print(\"time :\",end-start)\n",
    "    return Q, rewards, iterations, end-start"
   ]
  },
  {
   "cell_type": "code",
   "execution_count": 207,
   "metadata": {},
   "outputs": [
    {
     "name": "stdout",
     "output_type": "stream",
     "text": [
      "alpha = 0.4 gamma = 0.35\n",
      "time : 1.3245203495025635\n",
      "alpha = 0.4 gamma = 0.65\n",
      "time : 1.0999267101287842\n",
      "alpha = 0.4 gamma = 0.95\n",
      "time : 1.0548462867736816\n",
      "alpha = 0.6 gamma = 0.35\n",
      "time : 1.0969195365905762\n",
      "alpha = 0.6 gamma = 0.65\n",
      "time : 0.9916377067565918\n",
      "alpha = 0.6 gamma = 0.95\n",
      "time : 0.9408583641052246\n",
      "alpha = 0.8 gamma = 0.35\n",
      "time : 0.9806077480316162\n",
      "alpha = 0.8 gamma = 0.65\n",
      "time : 0.9645628929138184\n",
      "alpha = 0.8 gamma = 0.95\n",
      "time : 0.9344861507415771\n"
     ]
    }
   ],
   "source": [
    "alpha = [0.4, 0.6, 0.8]\n",
    "gamma = [0.35, 0.65, 0.95]\n",
    "results = []\n",
    "\n",
    "for a in alpha:\n",
    "    for g in gamma:\n",
    "        print('alpha =', a, 'gamma =', g)\n",
    "        result = q_learn(epsilon=0.1, episodes=3000, alpha=a, gamma=g)\n",
    "        results.append(result)"
   ]
  },
  {
   "cell_type": "code",
   "execution_count": 208,
   "metadata": {},
   "outputs": [
    {
     "data": {
      "text/plain": [
       "<matplotlib.legend.Legend at 0x2e0c838da20>"
      ]
     },
     "execution_count": 208,
     "metadata": {},
     "output_type": "execute_result"
    },
    {
     "data": {
      "image/png": "[encoded data removed]",
      "text/plain": [
       "<Figure size 432x288 with 1 Axes>"
      ]
     },
     "metadata": {
      "needs_background": "light"
     },
     "output_type": "display_data"
    }
   ],
   "source": [
    "episodes = 3000\n",
    "tmp = [(x,y) for x in alpha for y in gamma]\n",
    "\n",
    "# plt.figure(figsize=(16, 8))\n",
    "plt.xlabel('Episodes')\n",
    "plt.ylabel('Average Reward')\n",
    "plt.title('Average Reward vs Episodes (alpha, gamma)')\n",
    "\n",
    "for i, result in enumerate(results):\n",
    "\n",
    "    plt.plot(range(episodes), result[1], label=tmp[i])\n",
    "\n",
    "plt.legend()"
   ]
  },
  {
   "cell_type": "code",
   "execution_count": 216,
   "metadata": {},
   "outputs": [
    {
     "data": {
      "text/plain": [
       "<matplotlib.legend.Legend at 0x2e0c9453240>"
      ]
     },
     "execution_count": 216,
     "metadata": {},
     "output_type": "execute_result"
    },
    {
     "data": {
      "image/png": "[encoded data removed]",
      "text/plain": [
       "<Figure size 432x288 with 1 Axes>"
      ]
     },
     "metadata": {
      "needs_background": "light"
     },
     "output_type": "display_data"
    }
   ],
   "source": [
    "# Plot results\n",
    "def chunk_list(l, n):\n",
    "    for i in range(0, len(l), n):\n",
    "        yield l[i:i + n]\n",
    "\n",
    "episodes = 3000\n",
    "size = int(episodes / 5)\n",
    "avg = []\n",
    "tmp = [(x,y) for x in alpha for y in gamma]\n",
    "\n",
    "plt.xlabel('Episodes')\n",
    "plt.ylabel('Average Reward')\n",
    "plt.title('Average Reward vs Episodes (alpha, gamma)')\n",
    "\n",
    "for i, result in enumerate(results):\n",
    "    r = result[1]\n",
    "    chunks = list(chunk_list(r, size))\n",
    "    averages = [sum(chunk) / len(chunk) for chunk in chunks]\n",
    "\n",
    "    plt.plot(range(0, len(r), size), averages, label=tmp[i])\n",
    "\n",
    "plt.legend()"
   ]
  },
  {
   "cell_type": "code",
   "execution_count": 209,
   "metadata": {},
   "outputs": [
    {
     "data": {
      "text/plain": [
       "<matplotlib.legend.Legend at 0x2e0c84a7780>"
      ]
     },
     "execution_count": 209,
     "metadata": {},
     "output_type": "execute_result"
    },
    {
     "data": {
      "image/png": "[encoded data removed]",
      "text/plain": [
       "<Figure size 432x288 with 1 Axes>"
      ]
     },
     "metadata": {
      "needs_background": "light"
     },
     "output_type": "display_data"
    }
   ],
   "source": [
    "plt.xlabel('Episodes')\n",
    "plt.ylabel('Average Steps')\n",
    "plt.title('Average Steps vs Episodes (alpha, gamma)')\n",
    "\n",
    "for i, result in enumerate(results):\n",
    "\n",
    "    plt.plot(range(episodes), result[2], label=tmp[i])\n",
    "\n",
    "plt.legend()"
   ]
  },
  {
   "cell_type": "code",
   "execution_count": 217,
   "metadata": {},
   "outputs": [
    {
     "data": {
      "text/plain": [
       "<matplotlib.legend.Legend at 0x2e0c94da390>"
      ]
     },
     "execution_count": 217,
     "metadata": {},
     "output_type": "execute_result"
    },
    {
     "data": {
      "image/png": "[encoded data removed]",
      "text/plain": [
       "<Figure size 432x288 with 1 Axes>"
      ]
     },
     "metadata": {
      "needs_background": "light"
     },
     "output_type": "display_data"
    }
   ],
   "source": [
    "# Plot results\n",
    "def chunk_list(l, n):\n",
    "    for i in range(0, len(l), n):\n",
    "        yield l[i:i + n]\n",
    "\n",
    "episodes = 3000\n",
    "size = int(episodes / 5)\n",
    "avg = []\n",
    "tmp = [(x,y) for x in alpha for y in gamma]\n",
    "\n",
    "plt.xlabel('Episodes')\n",
    "plt.ylabel('Average Steps')\n",
    "plt.title('Average Steps vs Episodes (alpha, gamma)')\n",
    "\n",
    "for i, result in enumerate(results):\n",
    "    r = result[2]\n",
    "    chunks = list(chunk_list(r, size))\n",
    "    averages = [sum(chunk) / len(chunk) for chunk in chunks]\n",
    "\n",
    "    plt.plot(range(0, len(r), size), averages, label=tmp[i])\n",
    "\n",
    "plt.legend()"
   ]
  },
  {
   "cell_type": "code",
   "execution_count": 218,
   "metadata": {},
   "outputs": [
    {
     "data": {
      "text/plain": [
       "<BarContainer object of 9 artists>"
      ]
     },
     "execution_count": 218,
     "metadata": {},
     "output_type": "execute_result"
    },
    {
     "data": {
      "image/png": "[encoded data removed]",
      "text/plain": [
       "<Figure size 432x288 with 1 Axes>"
      ]
     },
     "metadata": {
      "needs_background": "light"
     },
     "output_type": "display_data"
    }
   ],
   "source": [
    "times = [r[3] for r in results]\n",
    "\n",
    "fig, ax = plt.subplots()    \n",
    "width = 0.75 # the width of the bars \n",
    "ind = np.arange(len(times))  # the x locations for the groups\n",
    "\n",
    "ax.set_yticks(ind+width/20)\n",
    "ax.set_yticklabels(tmp, minor=False)\n",
    "plt.title('Execution time with different (alpha, gamma)')\n",
    "plt.xlabel('Seconds')\n",
    "ax.barh(ind, times, width)"
   ]
  },
  {
   "cell_type": "code",
   "execution_count": 219,
   "metadata": {},
   "outputs": [
    {
     "name": "stdout",
     "output_type": "stream",
     "text": [
      "time : 0.9465174674987793\n"
     ]
    }
   ],
   "source": [
    "Q, rewards, iterations, time_diff = q_learn(alpha=0.8, gamma=0.95)"
   ]
  },
  {
   "cell_type": "code",
   "execution_count": 224,
   "metadata": {},
   "outputs": [
    {
     "data": {
      "text/plain": [
       "[<matplotlib.lines.Line2D at 0x2e0ca72d198>]"
      ]
     },
     "execution_count": 224,
     "metadata": {},
     "output_type": "execute_result"
    },
    {
     "data": {
      "image/png": "[encoded data removed]",
      "text/plain": [
       "<Figure size 432x288 with 1 Axes>"
      ]
     },
     "metadata": {
      "needs_background": "light"
     },
     "output_type": "display_data"
    }
   ],
   "source": [
    "plt.plot(rewards)"
   ]
  },
  {
   "cell_type": "code",
   "execution_count": 228,
   "metadata": {},
   "outputs": [
    {
     "data": {
      "text/plain": [
       "[<matplotlib.lines.Line2D at 0x2e0ca829320>]"
      ]
     },
     "execution_count": 228,
     "metadata": {},
     "output_type": "execute_result"
    },
    {
     "data": {
      "image/png": "[encoded data removed]",
      "text/plain": [
       "<Figure size 432x288 with 1 Axes>"
      ]
     },
     "metadata": {
      "needs_background": "light"
     },
     "output_type": "display_data"
    }
   ],
   "source": [
    "# Plot results\n",
    "def chunk_list(l, n):\n",
    "    for i in range(0, len(l), n):\n",
    "        yield l[i:i + n]\n",
    "\n",
    "episodes = 3000\n",
    "size = int(episodes / 1500)\n",
    "\n",
    "plt.xlabel('Episodes')\n",
    "plt.ylabel('Average Reward')\n",
    "plt.title('Average Reward vs Episodes')\n",
    "\n",
    "\n",
    "chunks = list(chunk_list(rewards, size))\n",
    "averages = [sum(chunk) / len(chunk) for chunk in chunks]\n",
    "\n",
    "plt.plot(range(0, len(rewards), size), averages)"
   ]
  },
  {
   "cell_type": "code",
   "execution_count": 229,
   "metadata": {},
   "outputs": [],
   "source": [
    "# Start with a random policy\n",
    "q_policy = np.zeros([env.nS, env.nA])\n",
    "\n",
    "for state in range(env.nS):  #for each states\n",
    "    best_act = np.argmax(Q[state]) #find best action\n",
    "    q_policy[state] = np.eye(env.nA)[best_act]"
   ]
  },
  {
   "cell_type": "code",
   "execution_count": 232,
   "metadata": {},
   "outputs": [
    {
     "data": {
      "text/plain": [
       "<matplotlib.axes._subplots.AxesSubplot at 0x2e0ca999518>"
      ]
     },
     "execution_count": 232,
     "metadata": {},
     "output_type": "execute_result"
    },
    {
     "data": {
      "image/png": "[encoded data removed]",
      "text/plain": [
       "<Figure size 432x288 with 1 Axes>"
      ]
     },
     "metadata": {
      "needs_background": "light"
     },
     "output_type": "display_data"
    }
   ],
   "source": [
    "Q_counts = [count(q_policy) for i in range(10000)]\n",
    "plt.title('Distribution of steps to complete, alpha=0.8, gamma=0.95')\n",
    "plt.xlabel('Steps')\n",
    "sns.distplot(Q_counts)"
   ]
  },
  {
   "cell_type": "code",
   "execution_count": 233,
   "metadata": {},
   "outputs": [
    {
     "data": {
      "text/plain": [
       "12.5637"
      ]
     },
     "execution_count": 233,
     "metadata": {},
     "output_type": "execute_result"
    }
   ],
   "source": [
    "np.mean(Q_counts)"
   ]
  },
  {
   "cell_type": "code",
   "execution_count": 245,
   "metadata": {},
   "outputs": [
    {
     "name": "stdout",
     "output_type": "stream",
     "text": [
      "Not the same Policy\n",
      "Same Policy\n",
      "Same Policy\n",
      "Same Policy\n",
      "Same Policy\n",
      "Same Policy\n",
      "Not the same Policy\n",
      "Same Policy\n",
      "Same Policy\n",
      "Same Policy\n",
      "Same Policy\n",
      "Same Policy\n",
      "Same Policy\n",
      "Same Policy\n",
      "Not the same Policy\n",
      "Same Policy\n",
      "Same Policy\n",
      "Not the same Policy\n",
      "Same Policy\n",
      "Same Policy\n",
      "Not the same Policy\n",
      "Same Policy\n",
      "Same Policy\n",
      "Same Policy\n",
      "Same Policy\n",
      "Same Policy\n",
      "Same Policy\n",
      "Same Policy\n",
      "Not the same Policy\n",
      "Not the same Policy\n",
      "Same Policy\n",
      "Not the same Policy\n",
      "Same Policy\n",
      "Same Policy\n",
      "Same Policy\n",
      "Same Policy\n",
      "Same Policy\n",
      "Same Policy\n",
      "Same Policy\n",
      "Same Policy\n",
      "Same Policy\n",
      "Same Policy\n",
      "Same Policy\n",
      "Same Policy\n",
      "Same Policy\n",
      "Not the same Policy\n",
      "Same Policy\n",
      "Same Policy\n",
      "Same Policy\n",
      "Same Policy\n",
      "Same Policy\n",
      "Same Policy\n",
      "Not the same Policy\n",
      "Not the same Policy\n",
      "Not the same Policy\n",
      "Same Policy\n",
      "Same Policy\n",
      "Same Policy\n",
      "Same Policy\n",
      "Same Policy\n",
      "Same Policy\n",
      "Not the same Policy\n",
      "Not the same Policy\n",
      "Same Policy\n",
      "Same Policy\n",
      "Not the same Policy\n",
      "Same Policy\n",
      "Same Policy\n",
      "Same Policy\n",
      "Not the same Policy\n",
      "Same Policy\n",
      "Same Policy\n",
      "Same Policy\n",
      "Same Policy\n",
      "Same Policy\n",
      "Same Policy\n",
      "Same Policy\n",
      "Same Policy\n",
      "Same Policy\n",
      "Same Policy\n",
      "Same Policy\n",
      "Not the same Policy\n",
      "Not the same Policy\n",
      "Same Policy\n",
      "Same Policy\n",
      "Not the same Policy\n",
      "Same Policy\n",
      "Same Policy\n",
      "Not the same Policy\n",
      "Not the same Policy\n",
      "Same Policy\n",
      "Not the same Policy\n",
      "Not the same Policy\n",
      "Not the same Policy\n",
      "Not the same Policy\n",
      "Same Policy\n",
      "Same Policy\n",
      "Same Policy\n",
      "Same Policy\n",
      "Not the same Policy\n",
      "Not the same Policy\n",
      "Same Policy\n",
      "Same Policy\n",
      "Same Policy\n",
      "Not the same Policy\n",
      "Not the same Policy\n",
      "Same Policy\n",
      "Same Policy\n",
      "Same Policy\n",
      "Same Policy\n",
      "Same Policy\n",
      "Same Policy\n",
      "Same Policy\n",
      "Same Policy\n",
      "Not the same Policy\n",
      "Same Policy\n",
      "Same Policy\n",
      "Same Policy\n",
      "Same Policy\n",
      "Not the same Policy\n",
      "Not the same Policy\n",
      "Not the same Policy\n",
      "Not the same Policy\n",
      "Same Policy\n",
      "Same Policy\n",
      "Not the same Policy\n",
      "Same Policy\n",
      "Same Policy\n",
      "Not the same Policy\n",
      "Same Policy\n",
      "Same Policy\n",
      "Not the same Policy\n",
      "Not the same Policy\n",
      "Not the same Policy\n",
      "Same Policy\n",
      "Same Policy\n",
      "Not the same Policy\n",
      "Same Policy\n",
      "Not the same Policy\n",
      "Not the same Policy\n",
      "Not the same Policy\n",
      "Same Policy\n",
      "Same Policy\n",
      "Same Policy\n",
      "Not the same Policy\n",
      "Not the same Policy\n",
      "Same Policy\n",
      "Same Policy\n",
      "Same Policy\n",
      "Not the same Policy\n",
      "Same Policy\n",
      "Not the same Policy\n",
      "Same Policy\n",
      "Same Policy\n",
      "Same Policy\n",
      "Same Policy\n",
      "Same Policy\n",
      "Not the same Policy\n",
      "Not the same Policy\n",
      "Not the same Policy\n",
      "Not the same Policy\n",
      "Same Policy\n",
      "Same Policy\n",
      "Same Policy\n",
      "Same Policy\n",
      "Not the same Policy\n",
      "Same Policy\n",
      "Not the same Policy\n",
      "Not the same Policy\n",
      "Not the same Policy\n",
      "Same Policy\n",
      "Not the same Policy\n",
      "Same Policy\n",
      "Same Policy\n",
      "Same Policy\n",
      "Same Policy\n",
      "Same Policy\n",
      "Same Policy\n",
      "Not the same Policy\n",
      "Same Policy\n",
      "Not the same Policy\n",
      "Same Policy\n",
      "Same Policy\n",
      "Same Policy\n",
      "Same Policy\n",
      "Not the same Policy\n",
      "Same Policy\n",
      "Same Policy\n",
      "Not the same Policy\n",
      "Same Policy\n",
      "Same Policy\n",
      "Not the same Policy\n",
      "Not the same Policy\n",
      "Same Policy\n",
      "Same Policy\n",
      "Same Policy\n",
      "Same Policy\n",
      "Same Policy\n",
      "Same Policy\n",
      "Same Policy\n",
      "Not the same Policy\n",
      "Same Policy\n",
      "Same Policy\n",
      "Same Policy\n",
      "Same Policy\n",
      "Not the same Policy\n",
      "Same Policy\n",
      "Same Policy\n",
      "Same Policy\n",
      "Same Policy\n",
      "Same Policy\n",
      "Same Policy\n",
      "Same Policy\n",
      "Same Policy\n",
      "Same Policy\n",
      "Not the same Policy\n",
      "Same Policy\n",
      "Same Policy\n",
      "Same Policy\n",
      "Same Policy\n",
      "Not the same Policy\n",
      "Same Policy\n",
      "Same Policy\n",
      "Not the same Policy\n",
      "Same Policy\n",
      "Not the same Policy\n",
      "Same Policy\n",
      "Same Policy\n",
      "Same Policy\n",
      "Same Policy\n",
      "Not the same Policy\n",
      "Same Policy\n",
      "Same Policy\n",
      "Same Policy\n",
      "Same Policy\n",
      "Not the same Policy\n",
      "Same Policy\n",
      "Not the same Policy\n",
      "Same Policy\n",
      "Same Policy\n",
      "Not the same Policy\n",
      "Not the same Policy\n",
      "Not the same Policy\n",
      "Not the same Policy\n",
      "Not the same Policy\n",
      "Not the same Policy\n",
      "Not the same Policy\n",
      "Not the same Policy\n",
      "Same Policy\n",
      "Same Policy\n",
      "Not the same Policy\n",
      "Same Policy\n",
      "Same Policy\n",
      "Same Policy\n",
      "Same Policy\n",
      "Not the same Policy\n",
      "Not the same Policy\n",
      "Not the same Policy\n",
      "Same Policy\n",
      "Same Policy\n",
      "Not the same Policy\n",
      "Not the same Policy\n",
      "Not the same Policy\n",
      "Not the same Policy\n",
      "Not the same Policy\n",
      "Not the same Policy\n",
      "Not the same Policy\n",
      "Same Policy\n",
      "Same Policy\n",
      "Same Policy\n",
      "Not the same Policy\n",
      "Same Policy\n",
      "Same Policy\n",
      "Same Policy\n",
      "Same Policy\n",
      "Same Policy\n",
      "Not the same Policy\n",
      "Same Policy\n",
      "Same Policy\n",
      "Same Policy\n",
      "Not the same Policy\n",
      "Not the same Policy\n",
      "Not the same Policy\n",
      "Same Policy\n",
      "Same Policy\n",
      "Not the same Policy\n",
      "Same Policy\n",
      "Same Policy\n",
      "Same Policy\n",
      "Same Policy\n",
      "Not the same Policy\n",
      "Same Policy\n",
      "Not the same Policy\n",
      "Not the same Policy\n",
      "Not the same Policy\n",
      "Same Policy\n",
      "Same Policy\n",
      "Same Policy\n",
      "Same Policy\n",
      "Not the same Policy\n",
      "Not the same Policy\n",
      "Same Policy\n",
      "Same Policy\n",
      "Same Policy\n",
      "Same Policy\n",
      "Not the same Policy\n",
      "Same Policy\n",
      "Same Policy\n",
      "Same Policy\n",
      "Same Policy\n",
      "Same Policy\n",
      "Same Policy\n",
      "Same Policy\n",
      "Same Policy\n",
      "Same Policy\n",
      "Not the same Policy\n",
      "Same Policy\n",
      "Same Policy\n",
      "Same Policy\n",
      "Same Policy\n",
      "Not the same Policy\n",
      "Same Policy\n",
      "Not the same Policy\n",
      "Same Policy\n",
      "Not the same Policy\n",
      "Not the same Policy\n",
      "Same Policy\n",
      "Same Policy\n",
      "Same Policy\n",
      "Same Policy\n",
      "Not the same Policy\n",
      "Same Policy\n",
      "Same Policy\n",
      "Not the same Policy\n",
      "Not the same Policy\n",
      "Not the same Policy\n",
      "Same Policy\n",
      "Not the same Policy\n",
      "Same Policy\n",
      "Not the same Policy\n",
      "Not the same Policy\n",
      "Not the same Policy\n",
      "Same Policy\n",
      "Not the same Policy\n",
      "Same Policy\n",
      "Not the same Policy\n",
      "Same Policy\n",
      "Same Policy\n",
      "Same Policy\n",
      "Not the same Policy\n",
      "Not the same Policy\n",
      "Not the same Policy\n",
      "Same Policy\n",
      "Same Policy\n",
      "Same Policy\n",
      "Not the same Policy\n",
      "Not the same Policy\n",
      "Not the same Policy\n",
      "Same Policy\n",
      "Same Policy\n",
      "Not the same Policy\n",
      "Same Policy\n",
      "Same Policy\n",
      "Same Policy\n",
      "Not the same Policy\n",
      "Not the same Policy\n",
      "Not the same Policy\n",
      "Not the same Policy\n",
      "Same Policy\n",
      "Same Policy\n",
      "Not the same Policy\n",
      "Same Policy\n",
      "Same Policy\n",
      "Same Policy\n",
      "Same Policy\n",
      "Same Policy\n",
      "Same Policy\n",
      "Not the same Policy\n",
      "Same Policy\n",
      "Same Policy\n",
      "Not the same Policy\n",
      "Not the same Policy\n",
      "Not the same Policy\n",
      "Same Policy\n",
      "Not the same Policy\n",
      "Not the same Policy\n",
      "Same Policy\n",
      "Same Policy\n",
      "Same Policy\n",
      "Same Policy\n",
      "Not the same Policy\n",
      "Not the same Policy\n",
      "Same Policy\n",
      "Not the same Policy\n",
      "Not the same Policy\n",
      "Same Policy\n",
      "Same Policy\n",
      "Same Policy\n",
      "Same Policy\n",
      "Not the same Policy\n",
      "Not the same Policy\n",
      "Same Policy\n",
      "Same Policy\n",
      "Same Policy\n",
      "Same Policy\n",
      "Not the same Policy\n",
      "Same Policy\n",
      "Same Policy\n",
      "Same Policy\n",
      "Same Policy\n",
      "Not the same Policy\n",
      "Same Policy\n",
      "Same Policy\n",
      "Same Policy\n",
      "Same Policy\n",
      "Not the same Policy\n",
      "Same Policy\n",
      "Same Policy\n",
      "Same Policy\n",
      "Same Policy\n",
      "Not the same Policy\n",
      "Same Policy\n",
      "Same Policy\n",
      "Same Policy\n",
      "Same Policy\n",
      "Not the same Policy\n",
      "Not the same Policy\n",
      "Same Policy\n",
      "Same Policy\n",
      "Same Policy\n",
      "Not the same Policy\n",
      "Same Policy\n",
      "Not the same Policy\n",
      "Not the same Policy\n",
      "Same Policy\n",
      "Not the same Policy\n",
      "Same Policy\n",
      "Not the same Policy\n",
      "Not the same Policy\n",
      "Not the same Policy\n",
      "Not the same Policy\n",
      "Same Policy\n",
      "Same Policy\n",
      "Not the same Policy\n",
      "Same Policy\n",
      "Not the same Policy\n",
      "Same Policy\n",
      "Same Policy\n",
      "Same Policy\n",
      "Same Policy\n",
      "Not the same Policy\n",
      "Same Policy\n",
      "Not the same Policy\n",
      "Same Policy\n",
      "Same Policy\n",
      "Not the same Policy\n",
      "Same Policy\n",
      "Same Policy\n",
      "Same Policy\n",
      "Not the same Policy\n",
      "Not the same Policy\n",
      "Same Policy\n",
      "Same Policy\n",
      "Same Policy\n",
      "Not the same Policy\n",
      "Not the same Policy\n",
      "Same Policy\n",
      "Not the same Policy\n",
      "Same Policy\n",
      "Same Policy\n",
      "Not the same Policy\n",
      "Same Policy\n",
      "Same Policy\n",
      "Same Policy\n",
      "Same Policy\n",
      "Not the same Policy\n",
      "Same Policy\n",
      "Not the same Policy\n",
      "Same Policy\n",
      "Same Policy\n",
      "Not the same Policy\n",
      "Same Policy\n",
      "Same Policy\n",
      "Not the same Policy\n",
      "Not the same Policy\n",
      "Not the same Policy\n",
      "Same Policy\n",
      "Same Policy\n",
      "Same Policy\n",
      "Same Policy\n",
      "Not the same Policy\n",
      "Not the same Policy\n",
      "Same Policy\n",
      "Same Policy\n",
      "Same Policy\n",
      "Not the same Policy\n",
      "Same Policy\n",
      "Same Policy\n",
      "Same Policy\n",
      "Same Policy\n"
     ]
    }
   ],
   "source": [
    "for x in range(500):\n",
    "    if not (q_policy[x] == val_iter_policy[x]).all():\n",
    "        print(\"Not the same Policy\")\n",
    "#         break\n",
    "    else:\n",
    "        print(\"Same Policy\")"
   ]
  },
  {
   "cell_type": "code",
   "execution_count": 250,
   "metadata": {},
   "outputs": [],
   "source": [
    "def view_policy(policy):\n",
    "    curr_state = env.reset()\n",
    "    counter = 0\n",
    "    reward = None\n",
    "    while reward != 20:\n",
    "        state, reward, done, info = env.step(np.argmax(policy[curr_state])) \n",
    "        curr_state = state\n",
    "        counter += 1\n",
    "        env.env.s = curr_state\n",
    "        env.render()\n",
    "    print('Total steps:', counter)"
   ]
  },
  {
   "cell_type": "code",
   "execution_count": 255,
   "metadata": {},
   "outputs": [
    {
     "name": "stdout",
     "output_type": "stream",
     "text": [
      "+---------+\n",
      "|R: | : :G|\n",
      "| : : : : |\n",
      "| : : : : |\n",
      "| | : |\u001b[43m \u001b[0m: |\n",
      "|\u001b[35mY\u001b[0m| : |\u001b[34;1mB\u001b[0m: |\n",
      "+---------+\n",
      "  (South)\n",
      "+---------+\n",
      "|R: | : :G|\n",
      "| : : : : |\n",
      "| : : : : |\n",
      "| | : | : |\n",
      "|\u001b[35mY\u001b[0m| : |\u001b[34;1m\u001b[43mB\u001b[0m\u001b[0m: |\n",
      "+---------+\n",
      "  (South)\n",
      "+---------+\n",
      "|R: | : :G|\n",
      "| : : : : |\n",
      "| : : : : |\n",
      "| | : | : |\n",
      "|\u001b[35mY\u001b[0m| : |\u001b[42mB\u001b[0m: |\n",
      "+---------+\n",
      "  (Pickup)\n",
      "+---------+\n",
      "|R: | : :G|\n",
      "| : : : : |\n",
      "| : : : : |\n",
      "| | : |\u001b[42m_\u001b[0m: |\n",
      "|\u001b[35mY\u001b[0m| : |B: |\n",
      "+---------+\n",
      "  (North)\n",
      "+---------+\n",
      "|R: | : :G|\n",
      "| : : : : |\n",
      "| : : :\u001b[42m_\u001b[0m: |\n",
      "| | : | : |\n",
      "|\u001b[35mY\u001b[0m| : |B: |\n",
      "+---------+\n",
      "  (North)\n",
      "+---------+\n",
      "|R: | : :G|\n",
      "| : : : : |\n",
      "| : :\u001b[42m_\u001b[0m: : |\n",
      "| | : | : |\n",
      "|\u001b[35mY\u001b[0m| : |B: |\n",
      "+---------+\n",
      "  (West)\n",
      "+---------+\n",
      "|R: | : :G|\n",
      "| : : : : |\n",
      "| :\u001b[42m_\u001b[0m: : : |\n",
      "| | : | : |\n",
      "|\u001b[35mY\u001b[0m| : |B: |\n",
      "+---------+\n",
      "  (West)\n",
      "+---------+\n",
      "|R: | : :G|\n",
      "| : : : : |\n",
      "|\u001b[42m_\u001b[0m: : : : |\n",
      "| | : | : |\n",
      "|\u001b[35mY\u001b[0m| : |B: |\n",
      "+---------+\n",
      "  (West)\n",
      "+---------+\n",
      "|R: | : :G|\n",
      "| : : : : |\n",
      "| : : : : |\n",
      "|\u001b[42m_\u001b[0m| : | : |\n",
      "|\u001b[35mY\u001b[0m| : |B: |\n",
      "+---------+\n",
      "  (South)\n",
      "+---------+\n",
      "|R: | : :G|\n",
      "| : : : : |\n",
      "| : : : : |\n",
      "| | : | : |\n",
      "|\u001b[35m\u001b[42mY\u001b[0m\u001b[0m| : |B: |\n",
      "+---------+\n",
      "  (South)\n",
      "+---------+\n",
      "|R: | : :G|\n",
      "| : : : : |\n",
      "| : : : : |\n",
      "| | : | : |\n",
      "|\u001b[35m\u001b[34;1m\u001b[43mY\u001b[0m\u001b[0m\u001b[0m| : |B: |\n",
      "+---------+\n",
      "  (Dropoff)\n",
      "Total steps: 11\n"
     ]
    }
   ],
   "source": [
    "view_policy(pol_iter_policy)"
   ]
  },
  {
   "cell_type": "code",
   "execution_count": 256,
   "metadata": {},
   "outputs": [
    {
     "name": "stdout",
     "output_type": "stream",
     "text": [
      "+---------+\n",
      "|\u001b[35mR\u001b[0m: | : :G|\n",
      "| : : : : |\n",
      "| : : : : |\n",
      "| | : | : |\n",
      "|\u001b[34;1m\u001b[43mY\u001b[0m\u001b[0m| : |B: |\n",
      "+---------+\n",
      "  (South)\n",
      "+---------+\n",
      "|\u001b[35mR\u001b[0m: | : :G|\n",
      "| : : : : |\n",
      "| : : : : |\n",
      "| | : | : |\n",
      "|\u001b[42mY\u001b[0m| : |B: |\n",
      "+---------+\n",
      "  (Pickup)\n",
      "+---------+\n",
      "|\u001b[35mR\u001b[0m: | : :G|\n",
      "| : : : : |\n",
      "| : : : : |\n",
      "|\u001b[42m_\u001b[0m| : | : |\n",
      "|Y| : |B: |\n",
      "+---------+\n",
      "  (North)\n",
      "+---------+\n",
      "|\u001b[35mR\u001b[0m: | : :G|\n",
      "| : : : : |\n",
      "|\u001b[42m_\u001b[0m: : : : |\n",
      "| | : | : |\n",
      "|Y| : |B: |\n",
      "+---------+\n",
      "  (North)\n",
      "+---------+\n",
      "|\u001b[35mR\u001b[0m: | : :G|\n",
      "|\u001b[42m_\u001b[0m: : : : |\n",
      "| : : : : |\n",
      "| | : | : |\n",
      "|Y| : |B: |\n",
      "+---------+\n",
      "  (North)\n",
      "+---------+\n",
      "|\u001b[35m\u001b[42mR\u001b[0m\u001b[0m: | : :G|\n",
      "| : : : : |\n",
      "| : : : : |\n",
      "| | : | : |\n",
      "|Y| : |B: |\n",
      "+---------+\n",
      "  (North)\n",
      "+---------+\n",
      "|\u001b[35m\u001b[34;1m\u001b[43mR\u001b[0m\u001b[0m\u001b[0m: | : :G|\n",
      "| : : : : |\n",
      "| : : : : |\n",
      "| | : | : |\n",
      "|Y| : |B: |\n",
      "+---------+\n",
      "  (Dropoff)\n",
      "Total steps: 7\n"
     ]
    }
   ],
   "source": [
    "view_policy(val_iter_policy)"
   ]
  },
  {
   "cell_type": "code",
   "execution_count": 257,
   "metadata": {},
   "outputs": [
    {
     "name": "stdout",
     "output_type": "stream",
     "text": [
      "+---------+\n",
      "|R: | :\u001b[43m \u001b[0m:\u001b[34;1mG\u001b[0m|\n",
      "| : : : : |\n",
      "| : : : : |\n",
      "| | : | : |\n",
      "|Y| : |\u001b[35mB\u001b[0m: |\n",
      "+---------+\n",
      "  (East)\n",
      "+---------+\n",
      "|R: | : :\u001b[34;1m\u001b[43mG\u001b[0m\u001b[0m|\n",
      "| : : : : |\n",
      "| : : : : |\n",
      "| | : | : |\n",
      "|Y| : |\u001b[35mB\u001b[0m: |\n",
      "+---------+\n",
      "  (East)\n",
      "+---------+\n",
      "|R: | : :\u001b[42mG\u001b[0m|\n",
      "| : : : : |\n",
      "| : : : : |\n",
      "| | : | : |\n",
      "|Y| : |\u001b[35mB\u001b[0m: |\n",
      "+---------+\n",
      "  (Pickup)\n",
      "+---------+\n",
      "|R: | :\u001b[42m_\u001b[0m:G|\n",
      "| : : : : |\n",
      "| : : : : |\n",
      "| | : | : |\n",
      "|Y| : |\u001b[35mB\u001b[0m: |\n",
      "+---------+\n",
      "  (West)\n",
      "+---------+\n",
      "|R: | : :G|\n",
      "| : : :\u001b[42m_\u001b[0m: |\n",
      "| : : : : |\n",
      "| | : | : |\n",
      "|Y| : |\u001b[35mB\u001b[0m: |\n",
      "+---------+\n",
      "  (South)\n",
      "+---------+\n",
      "|R: | : :G|\n",
      "| : : : : |\n",
      "| : : :\u001b[42m_\u001b[0m: |\n",
      "| | : | : |\n",
      "|Y| : |\u001b[35mB\u001b[0m: |\n",
      "+---------+\n",
      "  (South)\n",
      "+---------+\n",
      "|R: | : :G|\n",
      "| : : : : |\n",
      "| : : : : |\n",
      "| | : |\u001b[42m_\u001b[0m: |\n",
      "|Y| : |\u001b[35mB\u001b[0m: |\n",
      "+---------+\n",
      "  (South)\n",
      "+---------+\n",
      "|R: | : :G|\n",
      "| : : : : |\n",
      "| : : : : |\n",
      "| | : | : |\n",
      "|Y| : |\u001b[35m\u001b[42mB\u001b[0m\u001b[0m: |\n",
      "+---------+\n",
      "  (South)\n",
      "+---------+\n",
      "|R: | : :G|\n",
      "| : : : : |\n",
      "| : : : : |\n",
      "| | : | : |\n",
      "|Y| : |\u001b[35m\u001b[34;1m\u001b[43mB\u001b[0m\u001b[0m\u001b[0m: |\n",
      "+---------+\n",
      "  (Dropoff)\n",
      "Total steps: 9\n"
     ]
    }
   ],
   "source": [
    "view_policy(q_policy)"
   ]
  },
  {
   "cell_type": "code",
   "execution_count": null,
   "metadata": {},
   "outputs": [],
   "source": []
  }
 ],
 "metadata": {
  "kernelspec": {
   "display_name": "Python 3",
   "language": "python",
   "name": "python3"
  },
  "language_info": {
   "codemirror_mode": {
    "name": "ipython",
    "version": 3
   },
   "file_extension": ".py",
   "mimetype": "text/x-python",
   "name": "python",
   "nbconvert_exporter": "python",
   "pygments_lexer": "ipython3",
   "version": "3.7.2"
  }
 },
 "nbformat": 4,
 "nbformat_minor": 2
}
